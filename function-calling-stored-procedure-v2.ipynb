{
 "cells": [
  {
   "cell_type": "code",
   "execution_count": null,
   "metadata": {},
   "outputs": [],
   "source": [
    "import os\n",
    "import openai\n",
    "import dotenv\n",
    "import pyodbc \n",
    "import json\n",
    "\n",
    "dotenv.load_dotenv()"
   ]
  },
  {
   "cell_type": "code",
   "execution_count": null,
   "metadata": {},
   "outputs": [],
   "source": [
    "use_azure_active_directory = False  # Set this flag to True if you are using Azure Active Directory"
   ]
  },
  {
   "cell_type": "code",
   "execution_count": null,
   "metadata": {},
   "outputs": [],
   "source": [
    "if not use_azure_active_directory:\n",
    "    endpoint = os.getenv(\"AZURE_OPENAI_ENDPOINT\")\n",
    "    api_key = os.getenv(\"AZURE_OPENAI_API_KEY\")\n",
    "\n",
    "    client = openai.AzureOpenAI(\n",
    "        azure_endpoint=endpoint,\n",
    "        api_key=api_key,\n",
    "        api_version=\"2024-02-15-preview\"\n",
    "    )"
   ]
  },
  {
   "cell_type": "code",
   "execution_count": null,
   "metadata": {},
   "outputs": [],
   "source": [
    "deployment = \"gpt-4\" # Fill in the deployment name from the portal here"
   ]
  },
  {
   "cell_type": "code",
   "execution_count": null,
   "metadata": {},
   "outputs": [],
   "source": [
    "functions = [\n",
    "        {\n",
    "            \"type\": \"function\",\n",
    "            \"function\": {\n",
    "                \"name\": \"get_customers\",\n",
    "                \"description\": \"Get the customers for a given city\",\n",
    "                \"parameters\": {\n",
    "                    \"type\": \"object\",\n",
    "                    \"properties\": {\n",
    "                        \"city\": {\n",
    "                            \"type\": \"string\",\n",
    "                            \"description\": \"The city, e.g. New York\",\n",
    "                        }\n",
    "                    },\n",
    "                    \"required\": [\"city\"],\n",
    "                },\n",
    "            },\n",
    "        }\n",
    "]"
   ]
  },
  {
   "cell_type": "code",
   "execution_count": null,
   "metadata": {},
   "outputs": [],
   "source": [
    "messages = [\n",
    "    {\"role\": \"system\", \"content\": \"Don't make assumptions about what values to plug into functions. Ask for clarification if a user request is ambiguous.\"},\n",
    "    {\"role\": \"user\", \"content\": \"Show me customers list for New York city.\"}\n",
    "]\n",
    "\n",
    "chat_completion = client.chat.completions.create(\n",
    "    model=deployment,\n",
    "    messages=messages,\n",
    "    tools=functions\n",
    ")\n",
    "print(chat_completion)\n",
    "\n",
    "\n",
    "\n"
   ]
  },
  {
   "cell_type": "code",
   "execution_count": null,
   "metadata": {},
   "outputs": [],
   "source": [
    "\n",
    "def get_customers(request):\n",
    "    \"\"\"\n",
    "    This function is for illustrative purposes.\n",
    "    The city should be used to determine customer\n",
    "    instead of returning a hardcoded response.\n",
    "    \"\"\"\n",
    "    city = request.get(\"city\")\n",
    "\n",
    "    cnxn = pyodbc.connect('Driver={ODBC Driver 18 for SQL Server};Server=tcp:bikestore.database.windows.net,1433;Database=bikestore;Uid=' + os.getenv(\"SQL_DB_USER\") + ';Pwd=' + os.getenv(\"SQL_DB_PASSWORD\") + ';Encrypt=yes;TrustServerCertificate=no;Connection Timeout=30;')\n",
    "    cursor = cnxn.cursor()\t\n",
    "\n",
    "    sql = 'call SelectAllCustomersParams(?)'\n",
    "    values = (city)\n",
    "\n",
    "    sql = \"\"\"\\\n",
    "    SET NOCOUNT ON;\n",
    "    DECLARE @RC int;\n",
    "    EXEC @RC = [bikestore].[dbo].[SelectAllCustomersParams] ?;\n",
    "    SELECT @RC AS rc;\n",
    "    \"\"\"\n",
    "\n",
    "    cursor.execute(sql, (values))\n",
    "\n",
    "    rows = []\n",
    "    row = cursor.fetchone() \n",
    "    while row:\n",
    "        row = cursor.fetchone()\n",
    "        rows.append(row)\n",
    "\n",
    "    print(str(rows))\n",
    "    return str(rows)\n",
    "\n",
    "function_call = chat_completion.choices[0].message.tool_calls[0].function\n",
    "print(function_call.name)\n",
    "print(function_call.arguments)\n",
    "\n",
    "if function_call.name == \"get_customers\":\n",
    "    response = get_customers(json.loads(function_call.arguments))\n",
    "    print(response)"
   ]
  },
  {
   "cell_type": "code",
   "execution_count": null,
   "metadata": {},
   "outputs": [],
   "source": [
    "\"\"\"\n",
    "messages.append(\n",
    "    {\n",
    "        \"role\": \"function\",\n",
    "        \"name\": \"get_customers\",\n",
    "        \"content\": json.dumps(response)\n",
    "    }\n",
    ")\n",
    "\n",
    "function_completion = client.chat.completions.create(\n",
    "    model=deployment,\n",
    "    messages=messages,\n",
    "    tools=functions,\n",
    ")\n",
    "\n",
    "print(function_completion.choices[0].message.content.strip())\n",
    "\"\"\""
   ]
  }
 ],
 "metadata": {
  "kernelspec": {
   "display_name": "btp-venv",
   "language": "python",
   "name": "python3"
  },
  "language_info": {
   "codemirror_mode": {
    "name": "ipython",
    "version": 3
   },
   "file_extension": ".py",
   "mimetype": "text/x-python",
   "name": "python",
   "nbconvert_exporter": "python",
   "pygments_lexer": "ipython3",
   "version": "3.11.9"
  }
 },
 "nbformat": 4,
 "nbformat_minor": 2
}

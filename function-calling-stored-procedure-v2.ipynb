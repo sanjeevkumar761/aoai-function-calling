{
 "cells": [
  {
   "cell_type": "code",
   "execution_count": 51,
   "metadata": {},
   "outputs": [
    {
     "data": {
      "text/plain": [
       "True"
      ]
     },
     "execution_count": 51,
     "metadata": {},
     "output_type": "execute_result"
    }
   ],
   "source": [
    "import os\n",
    "import openai\n",
    "import dotenv\n",
    "import pyodbc \n",
    "import json\n",
    "\n",
    "dotenv.load_dotenv()"
   ]
  },
  {
   "cell_type": "code",
   "execution_count": 52,
   "metadata": {},
   "outputs": [],
   "source": [
    "use_azure_active_directory = False  # Set this flag to True if you are using Azure Active Directory"
   ]
  },
  {
   "cell_type": "code",
   "execution_count": 53,
   "metadata": {},
   "outputs": [],
   "source": [
    "if not use_azure_active_directory:\n",
    "    endpoint = os.getenv(\"AZURE_OPENAI_ENDPOINT\")\n",
    "    api_key = os.getenv(\"AZURE_OPENAI_API_KEY\")\n",
    "\n",
    "    client = openai.AzureOpenAI(\n",
    "        azure_endpoint=endpoint,\n",
    "        api_key=api_key,\n",
    "        api_version=\"2024-02-15-preview\"\n",
    "    )"
   ]
  },
  {
   "cell_type": "code",
   "execution_count": 54,
   "metadata": {},
   "outputs": [],
   "source": [
    "deployment = \"gpt-4\" # Fill in the deployment name from the portal here"
   ]
  },
  {
   "cell_type": "code",
   "execution_count": 55,
   "metadata": {},
   "outputs": [],
   "source": [
    "functions = [\n",
    "        {\n",
    "            \"type\": \"function\",\n",
    "            \"function\": {\n",
    "                \"name\": \"get_customers\",\n",
    "                \"description\": \"Get the customers for a given city\",\n",
    "                \"parameters\": {\n",
    "                    \"type\": \"object\",\n",
    "                    \"properties\": {\n",
    "                        \"city\": {\n",
    "                            \"type\": \"string\",\n",
    "                            \"description\": \"The city, e.g. New York\",\n",
    "                        }\n",
    "                    },\n",
    "                    \"required\": [\"city\"],\n",
    "                },\n",
    "            },\n",
    "        }\n",
    "]"
   ]
  },
  {
   "cell_type": "code",
   "execution_count": 56,
   "metadata": {},
   "outputs": [
    {
     "name": "stdout",
     "output_type": "stream",
     "text": [
      "ChatCompletion(id='chatcmpl-9HZ2I6dGyVw0odMcnfZw8Ljsgheb3', choices=[Choice(finish_reason='tool_calls', index=0, logprobs=None, message=ChatCompletionMessage(content=None, role='assistant', function_call=None, tool_calls=[ChatCompletionMessageToolCall(id='call_xrpyLJTDoyVDvZObZXcMj56c', function=Function(arguments='{\\n  \"city\": \"New York\"\\n}', name='get_customers'), type='function')]), content_filter_results={})], created=1713973282, model='gpt-4', object='chat.completion', system_fingerprint=None, usage=CompletionUsage(completion_tokens=17, prompt_tokens=89, total_tokens=106), prompt_filter_results=[{'prompt_index': 0, 'content_filter_results': {'hate': {'filtered': False, 'severity': 'safe'}, 'self_harm': {'filtered': False, 'severity': 'safe'}, 'sexual': {'filtered': False, 'severity': 'safe'}, 'violence': {'filtered': False, 'severity': 'safe'}}}])\n"
     ]
    }
   ],
   "source": [
    "messages = [\n",
    "    {\"role\": \"system\", \"content\": \"Don't make assumptions about what values to plug into functions. Ask for clarification if a user request is ambiguous.\"},\n",
    "    {\"role\": \"user\", \"content\": \"Show me customers list for New York city.\"}\n",
    "]\n",
    "\n",
    "chat_completion = client.chat.completions.create(\n",
    "    model=deployment,\n",
    "    messages=messages,\n",
    "    tools=functions\n",
    ")\n",
    "print(chat_completion)\n",
    "\n",
    "\n",
    "\n"
   ]
  },
  {
   "cell_type": "code",
   "execution_count": 57,
   "metadata": {},
   "outputs": [
    {
     "name": "stdout",
     "output_type": "stream",
     "text": [
      "get_customers\n",
      "{\n",
      "  \"city\": \"New York\"\n",
      "}\n",
      "[(178, 'Genoveva', 'Tyler', '(212) 152-6381', 'genoveva.tyler@gmail.com', '8121 Windfall Ave. ', 'New York', 'NY', '10002'), (327, 'Sharie', 'Alvarez', '(212) 211-7621', 'sharie.alvarez@msn.com', '987 West Leatherwood Dr. ', 'New York', 'NY', '10002'), (411, 'Octavia', 'Case', '(212) 171-1335', 'octavia.case@aol.com', '40 Charles Road ', 'New York', 'NY', '10002'), (854, 'Phylis', 'Adkins', '(212) 325-9145', 'phylis.adkins@msn.com', '7781 James Ave. ', 'New York', 'NY', '10002'), (927, 'Guillermo', 'Hart', '(212) 652-7198', 'guillermo.hart@hotmail.com', '81 Indian Summer Drive ', 'New York', 'NY', '10002'), (1016, 'Shenna', 'Benton', '(212) 578-2912', 'shenna.benton@msn.com', '57 Shadow Brook Road ', 'New York', 'NY', '10002'), None]\n",
      "[(178, 'Genoveva', 'Tyler', '(212) 152-6381', 'genoveva.tyler@gmail.com', '8121 Windfall Ave. ', 'New York', 'NY', '10002'), (327, 'Sharie', 'Alvarez', '(212) 211-7621', 'sharie.alvarez@msn.com', '987 West Leatherwood Dr. ', 'New York', 'NY', '10002'), (411, 'Octavia', 'Case', '(212) 171-1335', 'octavia.case@aol.com', '40 Charles Road ', 'New York', 'NY', '10002'), (854, 'Phylis', 'Adkins', '(212) 325-9145', 'phylis.adkins@msn.com', '7781 James Ave. ', 'New York', 'NY', '10002'), (927, 'Guillermo', 'Hart', '(212) 652-7198', 'guillermo.hart@hotmail.com', '81 Indian Summer Drive ', 'New York', 'NY', '10002'), (1016, 'Shenna', 'Benton', '(212) 578-2912', 'shenna.benton@msn.com', '57 Shadow Brook Road ', 'New York', 'NY', '10002'), None]\n"
     ]
    }
   ],
   "source": [
    "\n",
    "def get_customers(request):\n",
    "    \"\"\"\n",
    "    This function is for illustrative purposes.\n",
    "    The city should be used to determine customer\n",
    "    instead of returning a hardcoded response.\n",
    "    \"\"\"\n",
    "    city = request.get(\"city\")\n",
    "\n",
    "    cnxn = pyodbc.connect('Driver={ODBC Driver 18 for SQL Server};Server=tcp:' + os.getenv(\"SQL_DB_URL\") + ',1433;Database=' + os.getenv(\"SQL_DB_NAME\") + ';Uid=' + os.getenv(\"SQL_DB_USER\") + ';Pwd=' + os.getenv(\"SQL_DB_PASSWORD\") + ';Encrypt=yes;TrustServerCertificate=no;Connection Timeout=30;')\n",
    "    cursor = cnxn.cursor()\t\n",
    "\n",
    "    sql = 'call SelectAllCustomersParams(?)'\n",
    "    values = (city)\n",
    "\n",
    "    sql = \"\"\"\\\n",
    "    SET NOCOUNT ON;\n",
    "    DECLARE @RC int;\n",
    "    EXEC @RC = [bikestore].[dbo].[SelectAllCustomersParams] ?;\n",
    "    SELECT @RC AS rc;\n",
    "    \"\"\"\n",
    "\n",
    "    cursor.execute(sql, (values))\n",
    "\n",
    "    rows = []\n",
    "    row = cursor.fetchone() \n",
    "    while row:\n",
    "        row = cursor.fetchone()\n",
    "        rows.append(row)\n",
    "\n",
    "    print(str(rows))\n",
    "    return str(rows)\n",
    "\n",
    "function_call = chat_completion.choices[0].message.tool_calls[0].function\n",
    "print(function_call.name)\n",
    "print(function_call.arguments)\n",
    "\n",
    "if function_call.name == \"get_customers\":\n",
    "    response = get_customers(json.loads(function_call.arguments))\n",
    "    print(response)"
   ]
  },
  {
   "cell_type": "code",
   "execution_count": 58,
   "metadata": {},
   "outputs": [
    {
     "data": {
      "text/plain": [
       "'\\nmessages.append(\\n    {\\n        \"role\": \"function\",\\n        \"name\": \"get_customers\",\\n        \"content\": json.dumps(response)\\n    }\\n)\\n\\nfunction_completion = client.chat.completions.create(\\n    model=deployment,\\n    messages=messages,\\n    tools=functions,\\n)\\n\\nprint(function_completion.choices[0].message.content.strip())\\n'"
      ]
     },
     "execution_count": 58,
     "metadata": {},
     "output_type": "execute_result"
    }
   ],
   "source": [
    "\"\"\"\n",
    "messages.append(\n",
    "    {\n",
    "        \"role\": \"function\",\n",
    "        \"name\": \"get_customers\",\n",
    "        \"content\": json.dumps(response)\n",
    "    }\n",
    ")\n",
    "\n",
    "function_completion = client.chat.completions.create(\n",
    "    model=deployment,\n",
    "    messages=messages,\n",
    "    tools=functions,\n",
    ")\n",
    "\n",
    "print(function_completion.choices[0].message.content.strip())\n",
    "\"\"\""
   ]
  }
 ],
 "metadata": {
  "kernelspec": {
   "display_name": "btp-venv",
   "language": "python",
   "name": "python3"
  },
  "language_info": {
   "codemirror_mode": {
    "name": "ipython",
    "version": 3
   },
   "file_extension": ".py",
   "mimetype": "text/x-python",
   "name": "python",
   "nbconvert_exporter": "python",
   "pygments_lexer": "ipython3",
   "version": "3.11.9"
  }
 },
 "nbformat": 4,
 "nbformat_minor": 2
}
